{
  "cells": [
    {
      "cell_type": "code",
      "source": [
        "import sys\n",
        "import math\n",
        "import csv\n",
        "import random\n",
        "import json \n",
        "import time\n",
        "\n",
        "try:\n",
        "    jparams = json.load(open('params.json'))\n",
        "except:\n",
        "    print(\"ERROR: something is wrong with the params.json file.\")\n",
        "    sys.exit()\n",
        "    \n",
        "#-- store the input 3D points in list\n",
        "list_pts_3d = []\n",
        "with open(jparams['input-file']) as csvfile:\n",
        "    r = csv.reader(csvfile, delimiter=' ')\n",
        "    header = next(r)\n",
        "    for line in r:\n",
        "        p = list(map(float, line)) #-- convert each str to a float\n",
        "        assert(len(p) == 3)\n",
        "        list_pts_3d.append(p)"
      ],
      "outputs": [],
      "execution_count": 1,
      "metadata": {
        "collapsed": true,
        "jupyter": {
          "source_hidden": false,
          "outputs_hidden": false
        },
        "nteract": {
          "transient": {
            "deleting": false
          }
        },
        "execution": {
          "shell.execute_reply": "2020-11-25T15:47:34.910Z",
          "iopub.status.busy": "2020-11-25T15:47:34.884Z",
          "iopub.execute_input": "2020-11-25T15:47:34.889Z",
          "iopub.status.idle": "2020-11-25T15:47:34.901Z"
        }
      }
    },
    {
      "cell_type": "code",
      "source": [
        "import math\n",
        "import numpy\n",
        "import scipy.spatial"
      ],
      "outputs": [],
      "execution_count": 2,
      "metadata": {
        "collapsed": true,
        "jupyter": {
          "source_hidden": false,
          "outputs_hidden": false
        },
        "nteract": {
          "transient": {
            "deleting": false
          }
        },
        "execution": {
          "iopub.status.busy": "2020-11-25T15:47:35.951Z",
          "iopub.execute_input": "2020-11-25T15:47:35.957Z",
          "shell.execute_reply": "2020-11-25T15:47:36.205Z",
          "iopub.status.idle": "2020-11-25T15:47:36.219Z"
        }
      }
    },
    {
      "cell_type": "code",
      "source": [
        "class BoundingBox:\n",
        "    \"\"\"A 2D bounding box\"\"\"\n",
        "    \n",
        "    def __init__(self, points):\n",
        "        if len(points) == 0:\n",
        "            raise ValueError(\"Can't compute bounding box of empty list\")\n",
        "        \n",
        "        self.minx, self.miny = float(\"inf\"), float(\"inf\")\n",
        "        self.maxx, self.maxy = float(\"-inf\"), float(\"-inf\")\n",
        "        for x, y, *_ in points:\n",
        "            # Set min coords\n",
        "            if x < self.minx:\n",
        "                self.minx = x\n",
        "            if y < self.miny:\n",
        "                self.miny = y\n",
        "            # Set max coords\n",
        "            if x > self.maxx:\n",
        "                self.maxx = x\n",
        "            elif y > self.maxy:\n",
        "                self.maxy = y\n",
        "                \n",
        "    @property\n",
        "    def width(self):\n",
        "        return self.maxx - self.minx\n",
        "    @property\n",
        "    def height(self):\n",
        "        return self.maxy - self.miny\n",
        "    def __repr__(self):\n",
        "        return \"BoundingBox(X: {} - {}, Y: {} - {})\".format(\n",
        "            self.minx, self.maxx, self.miny, self.maxy)\n",
        "      \n",
        "bbox = BoundingBox(list_pts_3d)\n",
        "bbox"
      ],
      "outputs": [
        {
          "output_type": "execute_result",
          "execution_count": 77,
          "data": {
            "text/plain": "BoundingBox(X: 2.0 - 252.0, Y: 3.0 - 253.0)"
          },
          "metadata": {}
        }
      ],
      "execution_count": 77,
      "metadata": {
        "collapsed": true,
        "jupyter": {
          "source_hidden": false,
          "outputs_hidden": false
        },
        "nteract": {
          "transient": {
            "deleting": false
          }
        },
        "execution": {
          "iopub.status.busy": "2020-11-25T17:15:08.593Z",
          "iopub.execute_input": "2020-11-25T17:15:08.599Z",
          "iopub.status.idle": "2020-11-25T17:15:08.610Z",
          "shell.execute_reply": "2020-11-25T17:15:08.615Z"
        }
      }
    },
    {
      "cell_type": "code",
      "source": [
        "class Raster:\n",
        "  \"\"\"Simple raster based on ESRI ASCII schema\"\"\"\n",
        "  \n",
        "  def __init__(self, bbox, cell_size, no_data=-9999):\n",
        "    self.ncols = int(bbox.width // cell_size + 1)\n",
        "    self.nrows = int(bbox.height // cell_size + 1)\n",
        "    self.xllcenter = bbox.minx\n",
        "    self.yllcenter = bbox.miny\n",
        "    self.cell_size = cell_size\n",
        "    self.no_data = no_data\n",
        "    \n",
        "    # initialize list of values with no_data\n",
        "    self.values = [self.no_data] * self.ncols * self.nrows\n",
        "  \n",
        "  @property\n",
        "  def centers(self):\n",
        "    \"\"\"Cell center coordinates\"\"\"\n",
        "    xulcenter = self.xllcenter + self.cell_size * self.nrows\n",
        "    for i in range(self.ncols):\n",
        "      for j in range(self.nrows):\n",
        "        x = xulcenter - i * self.cell_size\n",
        "        y = self.yllcenter + j * self.cell_size\n",
        "        yield (x,y)\n",
        "    \n",
        "  def to_ascii(self):\n",
        "    rows = [\n",
        "      \"NCOLS %d\" % self.ncols,\n",
        "      \"NROWS %d\" % self.nrows,\n",
        "      \"XLLCENTER %s\" % self.xllcenter,\n",
        "      \"YLLCENTER %s\" % self.yllcenter,\n",
        "      \"CELLSIZE %s\" % self.cell_size,\n",
        "      \"NODATA_VALUE %s\" % self.no_data,\n",
        "      ' '.join( (str(x) for x in self.values) )\n",
        "    ]\n",
        "    return '\\n'.join(rows)"
      ],
      "outputs": [],
      "execution_count": 78,
      "metadata": {
        "collapsed": true,
        "jupyter": {
          "source_hidden": false,
          "outputs_hidden": false
        },
        "nteract": {
          "transient": {
            "deleting": false
          }
        },
        "execution": {
          "iopub.status.busy": "2020-11-25T17:15:09.984Z",
          "iopub.execute_input": "2020-11-25T17:15:09.989Z",
          "iopub.status.idle": "2020-11-25T17:15:10.009Z",
          "shell.execute_reply": "2020-11-25T17:15:09.999Z"
        }
      }
    },
    {
      "cell_type": "code",
      "source": [
        "bbox = BoundingBox(list_pts_3d)\n",
        "raster = Raster(bbox, 30)\n",
        "type(raster.to_ascii())"
      ],
      "outputs": [
        {
          "output_type": "execute_result",
          "execution_count": 79,
          "data": {
            "text/plain": "str"
          },
          "metadata": {}
        }
      ],
      "execution_count": 79,
      "metadata": {
        "collapsed": true,
        "jupyter": {
          "source_hidden": false,
          "outputs_hidden": false
        },
        "nteract": {
          "transient": {
            "deleting": false
          }
        },
        "execution": {
          "iopub.status.busy": "2020-11-25T17:15:12.146Z",
          "iopub.execute_input": "2020-11-25T17:15:12.151Z",
          "iopub.status.idle": "2020-11-25T17:15:12.162Z",
          "shell.execute_reply": "2020-11-25T17:15:12.167Z"
        }
      }
    },
    {
      "cell_type": "code",
      "source": [
        "list_pts_2d = [(x,y) for x,y,z in list_pts_3d]\n",
        "list_pts_z = [(z) for x,y,z in list_pts_3d]\n",
        "kdtree = scipy.spatial.KDTree(list_pts_2d)\n",
        "\n",
        "raster.values = []\n",
        "for center in raster.centers:\n",
        "    samples = kdtree.query_ball_point(center, 10)\n",
        "    coords = [list_pts_2d[i] for i in samples]\n",
        "    values = [list_pts_z[i] for i in samples]\n",
        "\n",
        "    # calculate distances (without sqrt) and solve 0 cases\n",
        "    dists = [(center[0]-c[0])**2 + (center[1]-c[1])**2 for c in coords]\n",
        "    if 0 in dists:\n",
        "      index = dists.index(0)\n",
        "      raster.values.append(list_pts_z[index])\n",
        "    # if no zero distance cases, weight the values\n",
        "    else:  \n",
        "      weights = [1/math.sqrt(d) for d in dists]\n",
        "      weights_norm = [w/sum(weights) for w in weights]\n",
        "      result = sum([norm*z for norm, z in zip(weights_norm, values)])\n",
        "      raster.values.append(result)\n",
        "\n",
        "    \n",
        "raster.values"
      ],
      "outputs": [
        {
          "output_type": "execute_result",
          "execution_count": 80,
          "data": {
            "text/plain": "[0,\n 0,\n 0,\n 0,\n 0,\n 0,\n 0,\n 0,\n 0,\n 0,\n 109.59004820692088,\n 102.75899845740938,\n 116.28725,\n 51.905826630209745,\n 44.13321117109679,\n 43.50950732657751,\n 41.78370432697501,\n 116.28725,\n 119.77059075207535,\n 126.70687110156923,\n 122.76253682545187,\n 96.40375363470822,\n 67.35789694339519,\n 66.08045308821609,\n 61.16968730109092,\n 43.53856449341872,\n 37.956936741572704,\n 116.18125740365231,\n 128.86368828198573,\n 129.85945123729195,\n 113.18102918054383,\n 101.23352009150477,\n 90.17161137379979,\n 64.33155484801158,\n 49.91590015993549,\n 49.48806126936641,\n 97.57074955474008,\n 117.68621317881144,\n 138.24763310084532,\n 137.48237672908957,\n 123.32890013583912,\n 103.01627984032949,\n 88.08659740900694,\n 86.10820012434652,\n 74.22506159815356,\n 87.46374218436816,\n 113.20525892758661,\n 132.54260641753535,\n 148.59387950007533,\n 145.38581712542808,\n 116.18964765107313,\n 110.83776073252854,\n 104.69675563661553,\n 91.51295613101244,\n 83.94869730808995,\n 102.4993460071837,\n 123.18208830675093,\n 136.73549380137726,\n 144.29915038180906,\n 138.9204607825597,\n 121.67763379277436,\n 100.82375680293879,\n 80.23255553050804,\n 70.17307692307692,\n 93.59306868733087,\n 108.83844659532302,\n 121.56978881878854,\n 131.90748619291782,\n 127.38223569100204,\n 115.87757591350903,\n 86.52438336141662,\n 60.15170951758327,\n 70.0,\n 77.37722027874169,\n 87.8279271915276,\n 106.29376154754345,\n 116.4472449111653,\n 118.53443149260205,\n 100.80322490232318,\n 76.87015868136814,\n 63.49504692139017]"
          },
          "metadata": {}
        }
      ],
      "execution_count": 80,
      "metadata": {
        "collapsed": true,
        "jupyter": {
          "source_hidden": false,
          "outputs_hidden": false
        },
        "nteract": {
          "transient": {
            "deleting": false
          }
        },
        "execution": {
          "iopub.status.busy": "2020-11-25T17:15:13.266Z",
          "iopub.execute_input": "2020-11-25T17:15:13.271Z",
          "shell.execute_reply": "2020-11-25T17:15:13.362Z",
          "iopub.status.idle": "2020-11-25T17:15:13.368Z"
        }
      }
    },
    {
      "cell_type": "code",
      "source": [
        "a = [1,3,4,0]\n",
        "a.index(0)"
      ],
      "outputs": [
        {
          "output_type": "execute_result",
          "execution_count": 82,
          "data": {
            "text/plain": "3"
          },
          "metadata": {}
        }
      ],
      "execution_count": 82,
      "metadata": {
        "collapsed": true,
        "jupyter": {
          "source_hidden": false,
          "outputs_hidden": false
        },
        "nteract": {
          "transient": {
            "deleting": false
          }
        },
        "execution": {
          "iopub.status.busy": "2020-11-25T17:21:53.762Z",
          "iopub.execute_input": "2020-11-25T17:21:53.767Z",
          "iopub.status.idle": "2020-11-25T17:21:53.780Z",
          "shell.execute_reply": "2020-11-25T17:21:53.791Z"
        }
      }
    },
    {
      "cell_type": "code",
      "source": [],
      "outputs": [],
      "execution_count": null,
      "metadata": {
        "collapsed": true,
        "jupyter": {
          "source_hidden": false,
          "outputs_hidden": false
        },
        "nteract": {
          "transient": {
            "deleting": false
          }
        }
      }
    }
  ],
  "metadata": {
    "kernel_info": {
      "name": "node_nteract"
    },
    "language_info": {
      "name": "python",
      "version": "3.8.3",
      "mimetype": "text/x-python",
      "codemirror_mode": {
        "name": "ipython",
        "version": 3
      },
      "pygments_lexer": "ipython3",
      "nbconvert_exporter": "python",
      "file_extension": ".py"
    },
    "kernelspec": {
      "argv": [
        "C:\\Program Files\\nteract\\nteract.exe",
        "C:\\Program Files\\nteract\\resources\\app.asar\\node_modules\\ijavascript\\lib\\kernel.js",
        "{connection_file}",
        "--protocol=5.0",
        "--hide-undefined"
      ],
      "display_name": "Node.js (nteract)",
      "env": {
        "ELECTRON_RUN_AS_NODE": "1",
        "NODE_PATH": "C:\\Program Files\\nteract\\resources\\app.asar\\node_modules"
      },
      "language": "javascript",
      "name": "node_nteract"
    },
    "nteract": {
      "version": "0.26.0"
    }
  },
  "nbformat": 4,
  "nbformat_minor": 0
}