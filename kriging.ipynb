{
  "cells": [
    {
      "cell_type": "code",
      "source": [
        "import sys\n",
        "import math\n",
        "import csv\n",
        "import random\n",
        "import json \n",
        "import time\n",
        "\n",
        "try:\n",
        "    jparams = json.load(open('params.json'))\n",
        "except:\n",
        "    print(\"ERROR: something is wrong with the params.json file.\")\n",
        "    sys.exit()\n",
        "    \n",
        "#-- store the input 3D points in list\n",
        "list_pts_3d = []\n",
        "with open(jparams['input-file']) as csvfile:\n",
        "    r = csv.reader(csvfile, delimiter=' ')\n",
        "    header = next(r)\n",
        "    for line in r:\n",
        "        p = list(map(float, line)) #-- convert each str to a float\n",
        "        assert(len(p) == 3)\n",
        "        list_pts_3d.append(p)"
      ],
      "outputs": [],
      "execution_count": 1,
      "metadata": {
        "collapsed": true,
        "jupyter": {
          "source_hidden": false,
          "outputs_hidden": false
        },
        "nteract": {
          "transient": {
            "deleting": false
          }
        },
        "execution": {
          "shell.execute_reply": "2020-11-26T16:22:30.964Z",
          "iopub.status.busy": "2020-11-26T16:22:31.040Z",
          "iopub.execute_input": "2020-11-26T16:22:31.050Z",
          "iopub.status.idle": "2020-11-26T16:22:31.059Z"
        }
      }
    },
    {
      "cell_type": "code",
      "source": [
        "import math\n",
        "import numpy\n",
        "import scipy.spatial\n",
        "import startin"
      ],
      "outputs": [],
      "execution_count": 2,
      "metadata": {
        "collapsed": true,
        "jupyter": {
          "source_hidden": false,
          "outputs_hidden": false
        },
        "nteract": {
          "transient": {
            "deleting": false
          }
        },
        "execution": {
          "iopub.status.busy": "2020-11-26T16:22:31.069Z",
          "iopub.execute_input": "2020-11-26T16:22:31.080Z",
          "shell.execute_reply": "2020-11-26T16:22:31.219Z",
          "iopub.status.idle": "2020-11-26T16:22:31.211Z"
        }
      }
    },
    {
      "cell_type": "code",
      "source": [
        "class BoundingBox:\n",
        "    \"\"\"A 2D bounding box\"\"\"\n",
        "    \n",
        "    def __init__(self, points):\n",
        "        if len(points) == 0:\n",
        "            raise ValueError(\"Can't compute bounding box of empty list\")\n",
        "        \n",
        "        self.minx, self.miny = float(\"inf\"), float(\"inf\")\n",
        "        self.maxx, self.maxy = float(\"-inf\"), float(\"-inf\")\n",
        "        for x, y, *_ in points:\n",
        "            # Set min coords\n",
        "            if x < self.minx:\n",
        "                self.minx = x\n",
        "            if y < self.miny:\n",
        "                self.miny = y\n",
        "            # Set max coords\n",
        "            if x > self.maxx:\n",
        "                self.maxx = x\n",
        "            elif y > self.maxy:\n",
        "                self.maxy = y\n",
        "                \n",
        "    @property\n",
        "    def width(self):\n",
        "        return self.maxx - self.minx\n",
        "    @property\n",
        "    def height(self):\n",
        "        return self.maxy - self.miny\n",
        "    def __repr__(self):\n",
        "        return \"BoundingBox(X: {} - {}, Y: {} - {})\".format(\n",
        "            self.minx, self.maxx, self.miny, self.maxy)\n",
        "      \n",
        "bbox = BoundingBox(list_pts_3d)\n",
        "bbox"
      ],
      "outputs": [
        {
          "output_type": "execute_result",
          "execution_count": 3,
          "data": {
            "text/plain": "BoundingBox(X: 2.0 - 252.0, Y: 3.0 - 253.0)"
          },
          "metadata": {}
        }
      ],
      "execution_count": 3,
      "metadata": {
        "collapsed": true,
        "jupyter": {
          "source_hidden": false,
          "outputs_hidden": false
        },
        "nteract": {
          "transient": {
            "deleting": false
          }
        },
        "execution": {
          "iopub.status.busy": "2020-11-26T16:22:31.237Z",
          "iopub.execute_input": "2020-11-26T16:22:31.245Z",
          "iopub.status.idle": "2020-11-26T16:22:31.264Z",
          "shell.execute_reply": "2020-11-26T16:22:31.331Z"
        }
      }
    },
    {
      "cell_type": "code",
      "source": [
        "class Raster:\n",
        "  \"\"\"Simple raster based on ESRI ASCII schema\"\"\"\n",
        "  \n",
        "  def __init__(self, bbox, cell_size, no_data=-9999):\n",
        "    self.ncols = math.ceil(bbox.width / cell_size)\n",
        "    self.nrows = math.ceil(bbox.height / cell_size)\n",
        "    self.xllcorner = bbox.minx\n",
        "    self.yllcorner = bbox.miny\n",
        "    self.cell_size = cell_size\n",
        "    self.no_data = no_data\n",
        "    \n",
        "    # initialize list of values with no_data\n",
        "    self.values = [self.no_data] * self.ncols * self.nrows\n",
        "    \n",
        "  @property\n",
        "  def centers(self):\n",
        "    \"\"\"Cell center coordinates\"\"\"\n",
        "    xulcenter = self.xllcorner + self.cell_size/2\n",
        "    yulcenter = self.yllcorner - self.cell_size/2 + self.cell_size*self.nrows\n",
        "    for i in range(self.nrows):\n",
        "      for j in range(self.ncols):\n",
        "        x = xulcenter + j * self.cell_size\n",
        "        y = yulcenter - i * self.cell_size\n",
        "        yield (x,y)\n",
        "    \n",
        "  def to_ascii(self):\n",
        "    rows = [\n",
        "      \"NCOLS %d\" % self.ncols,\n",
        "      \"NROWS %d\" % self.nrows,\n",
        "      \"XLLCORNER %s\" % self.xllcorner,\n",
        "      \"YLLCORNER %s\" % self.yllcorner,\n",
        "      \"CELLSIZE %s\" % self.cell_size,\n",
        "      \"NODATA_VALUE %s\" % self.no_data,\n",
        "      ' '.join( (str(x) for x in self.values) )\n",
        "    ]\n",
        "    return '\\n'.join(rows)"
      ],
      "outputs": [],
      "execution_count": 4,
      "metadata": {
        "collapsed": true,
        "jupyter": {
          "source_hidden": false,
          "outputs_hidden": false
        },
        "nteract": {
          "transient": {
            "deleting": false
          }
        },
        "execution": {
          "iopub.status.busy": "2020-11-26T16:22:31.275Z",
          "iopub.execute_input": "2020-11-26T16:22:31.281Z",
          "iopub.status.idle": "2020-11-26T16:22:31.290Z",
          "shell.execute_reply": "2020-11-26T16:22:31.334Z"
        }
      }
    },
    {
      "cell_type": "code",
      "source": [
        "bbox = BoundingBox(list_pts_3d)\n",
        "raster = Raster(bbox, 30)\n",
        "type(raster.to_ascii())"
      ],
      "outputs": [
        {
          "output_type": "execute_result",
          "execution_count": 5,
          "data": {
            "text/plain": "str"
          },
          "metadata": {}
        }
      ],
      "execution_count": 5,
      "metadata": {
        "collapsed": true,
        "jupyter": {
          "source_hidden": false,
          "outputs_hidden": false
        },
        "nteract": {
          "transient": {
            "deleting": false
          }
        },
        "execution": {
          "iopub.status.busy": "2020-11-26T16:22:31.298Z",
          "iopub.execute_input": "2020-11-26T16:22:31.303Z",
          "iopub.status.idle": "2020-11-26T16:22:31.315Z",
          "shell.execute_reply": "2020-11-26T16:22:31.338Z"
        }
      }
    },
    {
      "cell_type": "code",
      "source": [
        "# gaussian function for kriging\n",
        "_nugget = 0\n",
        "_sill = 1400\n",
        "_range = 300\n",
        "gamma = lambda x: _nugget+_sill*(1.0 - math.exp(-9.0*x*x/(_range**2)))\n",
        "dist = lambda a, b: math.sqrt( (a[0]-b[0])**2 + (a[1]-b[1])**2 )    \n",
        "\n",
        "list_pts_2d = [(x,y) for x,y,z in list_pts_3d]\n",
        "list_pts_z = [(z) for x,y,z in list_pts_3d]\n",
        "kdtree = scipy.spatial.KDTree(list_pts_2d)\n",
        "dt = startin.DT()\n",
        "dt.insert(list_pts_2d)\n",
        "                                                                                          \n",
        "raster.values = []\n",
        "for center in raster.centers:\n",
        "    # catch outside on convex hull case\n",
        "    if not dt.locate(*center):\n",
        "        raster.values.append(raster.no_data)\n",
        "        continue\n",
        "    # get samples in radius\n",
        "    samples = kdtree.query_ball_point(center, 10)\n",
        "    coords = [list_pts_2d[i] for i in samples]\n",
        "    values = [list_pts_z[i] for i in samples]\n",
        "    dists = [math.sqrt( (center[0]-c[0])**2 + (center[1]-c[1])**2 ) \n",
        "            for c in coords]\n",
        "    # catch no sample in radius case\n",
        "    if not samples:\n",
        "        raster.values.append(raster.no_data)\n",
        "        continue\n",
        "    # catch zero distance case\n",
        "    if 0 in dists:\n",
        "        i = dists.index(0)\n",
        "        raster.values.append(values[i])\n",
        "        continue \n",
        "    \n",
        "    # create covarience matrix using gaussian dist function\n",
        "    cov_mat = []\n",
        "    for i in coords:\n",
        "      row = []\n",
        "      for j in coords:\n",
        "        row.append(gamma(dist(i, j)))\n",
        "      cov_mat.append(row+[1])\n",
        "    cov_mat.append([1]*len(coords)+[0])\n",
        "    cov_mat = numpy.array(cov_mat)\n",
        "    # create d matrix gaussian dist function\n",
        "    d_mat = []\n",
        "    for i in coords:\n",
        "        d_mat.append([gamma(dist(i, center))])\n",
        "    d_mat.append([1])\n",
        "    d_mat = numpy.array(d_mat)\n",
        "    # calculate weight matrix\n",
        "    try:\n",
        "      w_mat = numpy.matmul(numpy.linalg.inv(cov_mat), d_mat)\n",
        "    except:\n",
        "      print('singular')\n",
        "      # catch singular matrix case\n",
        "      raster.values.append(raster.no_data)\n",
        "      continue\n",
        "    weights = [w[0] for w in w_mat[:-1]]\n",
        "    weights_norm = [w/sum(weights) for w in weights]\n",
        "    result = sum([val*w for val, w in zip(values, weights_norm)])\n",
        "    raster.values.append(result)\n",
        "        \n",
        "raster.values"
      ],
      "outputs": [
        {
          "output_type": "stream",
          "name": "stdout",
          "text": [
            "singular\n",
            "singular\n",
            "singular\n"
          ]
        },
        {
          "output_type": "execute_result",
          "execution_count": 91,
          "data": {
            "text/plain": "[-9999,\n -9999,\n -9999,\n -9999,\n -9999,\n -9999,\n -9999,\n -9999,\n -9999,\n -9999,\n -9999,\n -9999,\n -9999,\n -9999,\n -9999,\n -9999,\n -9999,\n -9999,\n 69.66416309036346,\n 70.04631616264459,\n 76.76730020554187,\n 94.66804017832457,\n 89.16785332004889,\n 67.68182239910485,\n 42.059744353024776,\n 38.99493321679758,\n -9999,\n 88.36722176839922,\n 93.28997251724941,\n 108.52649169701697,\n 113.8682928423466,\n 98.50434000496872,\n 68.5678281681976,\n 49.17729408433547,\n 49.44423912928414,\n -9999,\n 109.61338125397168,\n 113.75,\n 129.2871211892162,\n 128.04349731995504,\n 98.08100307439331,\n 80.7022543112343,\n 75.59510964173982,\n 51.187059941839806,\n -9999,\n -9999,\n 121.84711743179199,\n 138.03194958000086,\n 141.8037219368105,\n 122.8909860320613,\n 105.49336885754596,\n 79.54935309667889,\n 52.19812867655759,\n -9999,\n -9999,\n 120.6367794573648,\n 135.32779831766248,\n 150.59602659234696,\n 148.3851,\n 117.87064502582855,\n 90.03992317730075,\n 65.55556,\n -9999,\n 94.93072265693436,\n 102.38594,\n 123.18290613213806,\n 137.17741,\n 142.973254483914,\n 134.10174395092986,\n 116.22744002007501,\n 104.42125292400296,\n -9999,\n 78.46624699750603,\n 87.60208131547762,\n 107.44354716110651,\n 119.46020341537582,\n 124.52554124409934,\n -9999,\n 130.1567106355451,\n 119.52646580172785,\n -9999]"
          },
          "metadata": {}
        }
      ],
      "execution_count": 91,
      "metadata": {
        "collapsed": true,
        "jupyter": {
          "source_hidden": false,
          "outputs_hidden": false
        },
        "nteract": {
          "transient": {
            "deleting": false
          }
        },
        "execution": {
          "iopub.status.busy": "2020-11-27T00:10:12.548Z",
          "iopub.execute_input": "2020-11-27T00:10:12.558Z",
          "iopub.status.idle": "2020-11-27T00:10:12.664Z",
          "shell.execute_reply": "2020-11-27T00:10:12.650Z"
        }
      }
    },
    {
      "cell_type": "code",
      "source": [],
      "outputs": [],
      "execution_count": null,
      "metadata": {
        "collapsed": true,
        "jupyter": {
          "source_hidden": false,
          "outputs_hidden": false
        },
        "nteract": {
          "transient": {
            "deleting": false
          }
        }
      }
    },
    {
      "cell_type": "code",
      "source": [
        "test = ['a', 'b', 'c']\n",
        "cov_mat = []\n",
        "for i in test:\n",
        "  row = []\n",
        "  for j in test:\n",
        "    row.append(i+j)\n",
        "  cov_mat.append(row+[1])\n",
        "cov_mat.append([1]*len(test)+[0])\n",
        "\n",
        "cov_mat = numpy.array(cov_mat)\n",
        "cov_mat"
      ],
      "outputs": [
        {
          "output_type": "execute_result",
          "execution_count": 59,
          "data": {
            "text/plain": "array([['aa', 'ab', 'ac', '1'],\n       ['ba', 'bb', 'bc', '1'],\n       ['ca', 'cb', 'cc', '1'],\n       ['1', '1', '1', '0']], dtype='<U2')"
          },
          "metadata": {}
        }
      ],
      "execution_count": 59,
      "metadata": {
        "collapsed": true,
        "jupyter": {
          "source_hidden": false,
          "outputs_hidden": false
        },
        "nteract": {
          "transient": {
            "deleting": false
          }
        },
        "execution": {
          "iopub.status.busy": "2020-11-26T22:13:40.596Z",
          "iopub.execute_input": "2020-11-26T22:13:40.607Z",
          "iopub.status.idle": "2020-11-26T22:13:40.627Z",
          "shell.execute_reply": "2020-11-26T22:13:40.647Z"
        }
      }
    },
    {
      "cell_type": "code",
      "source": [
        "point = 'z'\n",
        "test = ['a', 'b', 'c']\n",
        "d_mat = []\n",
        "for i in test:\n",
        "    d_mat.append([point+i])\n",
        "\n",
        "d_mat = numpy.array(d_mat)\n",
        "d_mat"
      ],
      "outputs": [
        {
          "output_type": "execute_result",
          "execution_count": 60,
          "data": {
            "text/plain": "array([['za'],\n       ['zb'],\n       ['zc']], dtype='<U2')"
          },
          "metadata": {}
        }
      ],
      "execution_count": 60,
      "metadata": {
        "collapsed": true,
        "jupyter": {
          "source_hidden": false,
          "outputs_hidden": false
        },
        "nteract": {
          "transient": {
            "deleting": false
          }
        },
        "execution": {
          "iopub.status.busy": "2020-11-26T22:14:59.295Z",
          "iopub.execute_input": "2020-11-26T22:14:59.301Z",
          "iopub.status.idle": "2020-11-26T22:14:59.316Z",
          "shell.execute_reply": "2020-11-26T22:14:59.332Z"
        }
      }
    },
    {
      "cell_type": "code",
      "source": [],
      "outputs": [
        {
          "output_type": "execute_result",
          "execution_count": 73,
          "data": {
            "text/plain": "array([['aa', 'ab', 'ac'],\n       ['ba', 'bb', 'bc'],\n       ['ca', 'cb', 'cc']], dtype='<U2')"
          },
          "metadata": {}
        }
      ],
      "execution_count": 73,
      "metadata": {
        "collapsed": true,
        "jupyter": {
          "source_hidden": false,
          "outputs_hidden": false
        },
        "nteract": {
          "transient": {
            "deleting": false
          }
        },
        "execution": {
          "iopub.status.busy": "2020-11-26T22:26:48.259Z",
          "iopub.execute_input": "2020-11-26T22:26:48.270Z",
          "iopub.status.idle": "2020-11-26T22:26:48.288Z",
          "shell.execute_reply": "2020-11-26T22:26:48.295Z"
        }
      }
    },
    {
      "cell_type": "code",
      "source": [
        "list(range(3))"
      ],
      "outputs": [
        {
          "output_type": "execute_result",
          "execution_count": 76,
          "data": {
            "text/plain": "[0, 1, 2]"
          },
          "metadata": {}
        }
      ],
      "execution_count": 76,
      "metadata": {
        "collapsed": true,
        "jupyter": {
          "source_hidden": false,
          "outputs_hidden": false
        },
        "nteract": {
          "transient": {
            "deleting": false
          }
        },
        "execution": {
          "iopub.status.busy": "2020-11-26T22:57:38.933Z",
          "iopub.execute_input": "2020-11-26T22:57:38.944Z",
          "iopub.status.idle": "2020-11-26T22:57:38.963Z",
          "shell.execute_reply": "2020-11-26T22:57:38.970Z"
        }
      }
    }
  ],
  "metadata": {
    "kernel_info": {
      "name": "node_nteract"
    },
    "language_info": {
      "name": "python",
      "version": "3.8.3",
      "mimetype": "text/x-python",
      "codemirror_mode": {
        "name": "ipython",
        "version": 3
      },
      "pygments_lexer": "ipython3",
      "nbconvert_exporter": "python",
      "file_extension": ".py"
    },
    "kernelspec": {
      "argv": [
        "C:\\Program Files\\nteract\\nteract.exe",
        "C:\\Program Files\\nteract\\resources\\app.asar\\node_modules\\ijavascript\\lib\\kernel.js",
        "{connection_file}",
        "--protocol=5.0",
        "--hide-undefined"
      ],
      "display_name": "Node.js (nteract)",
      "env": {
        "ELECTRON_RUN_AS_NODE": "1",
        "NODE_PATH": "C:\\Program Files\\nteract\\resources\\app.asar\\node_modules"
      },
      "language": "javascript",
      "name": "node_nteract"
    },
    "nteract": {
      "version": "0.26.0"
    }
  },
  "nbformat": 4,
  "nbformat_minor": 0
}