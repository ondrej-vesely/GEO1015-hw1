{
  "cells": [
    {
      "cell_type": "code",
      "source": [
        "import sys\n",
        "import math\n",
        "import csv\n",
        "import random\n",
        "import json \n",
        "import time\n",
        "\n",
        "try:\n",
        "    jparams = json.load(open('params.json'))\n",
        "except:\n",
        "    print(\"ERROR: something is wrong with the params.json file.\")\n",
        "    sys.exit()\n",
        "    \n",
        "#-- store the input 3D points in list\n",
        "list_pts_3d = []\n",
        "with open(jparams['input-file']) as csvfile:\n",
        "    r = csv.reader(csvfile, delimiter=' ')\n",
        "    header = next(r)\n",
        "    for line in r:\n",
        "        p = list(map(float, line)) #-- convert each str to a float\n",
        "        assert(len(p) == 3)\n",
        "        list_pts_3d.append(p)"
      ],
      "outputs": [],
      "execution_count": 1,
      "metadata": {
        "collapsed": true,
        "jupyter": {
          "source_hidden": false,
          "outputs_hidden": false
        },
        "nteract": {
          "transient": {
            "deleting": false
          }
        },
        "execution": {
          "shell.execute_reply": "2020-11-25T15:47:34.910Z",
          "iopub.status.busy": "2020-11-25T15:47:34.884Z",
          "iopub.execute_input": "2020-11-25T15:47:34.889Z",
          "iopub.status.idle": "2020-11-25T15:47:34.901Z"
        }
      }
    },
    {
      "cell_type": "code",
      "source": [
        "import math\n",
        "import numpy\n",
        "import scipy.spatial"
      ],
      "outputs": [],
      "execution_count": 2,
      "metadata": {
        "collapsed": true,
        "jupyter": {
          "source_hidden": false,
          "outputs_hidden": false
        },
        "nteract": {
          "transient": {
            "deleting": false
          }
        },
        "execution": {
          "iopub.status.busy": "2020-11-25T15:47:35.951Z",
          "iopub.execute_input": "2020-11-25T15:47:35.957Z",
          "shell.execute_reply": "2020-11-25T15:47:36.205Z",
          "iopub.status.idle": "2020-11-25T15:47:36.219Z"
        }
      }
    },
    {
      "cell_type": "code",
      "source": [
        "class BoundingBox:\n",
        "    \"\"\"A 2D bounding box\"\"\"\n",
        "    \n",
        "    def __init__(self, points):\n",
        "        if len(points) == 0:\n",
        "            raise ValueError(\"Can't compute bounding box of empty list\")\n",
        "        \n",
        "        self.minx, self.miny = float(\"inf\"), float(\"inf\")\n",
        "        self.maxx, self.maxy = float(\"-inf\"), float(\"-inf\")\n",
        "        for x, y, *_ in points:\n",
        "            # Set min coords\n",
        "            if x < self.minx:\n",
        "                self.minx = x\n",
        "            if y < self.miny:\n",
        "                self.miny = y\n",
        "            # Set max coords\n",
        "            if x > self.maxx:\n",
        "                self.maxx = x\n",
        "            elif y > self.maxy:\n",
        "                self.maxy = y\n",
        "                \n",
        "    @property\n",
        "    def width(self):\n",
        "        return self.maxx - self.minx\n",
        "    @property\n",
        "    def height(self):\n",
        "        return self.maxy - self.miny\n",
        "    def __repr__(self):\n",
        "        return \"BoundingBox(X: {} - {}, Y: {} - {})\".format(\n",
        "            self.minx, self.maxx, self.miny, self.maxy)\n",
        "      \n",
        "bbox = BoundingBox(list_pts_3d)\n",
        "bbox"
      ],
      "outputs": [
        {
          "output_type": "execute_result",
          "execution_count": 3,
          "data": {
            "text/plain": "BoundingBox(X: 2.0 - 252.0, Y: 3.0 - 253.0)"
          },
          "metadata": {}
        }
      ],
      "execution_count": 3,
      "metadata": {
        "collapsed": true,
        "jupyter": {
          "source_hidden": false,
          "outputs_hidden": false
        },
        "nteract": {
          "transient": {
            "deleting": false
          }
        },
        "execution": {
          "iopub.status.busy": "2020-11-25T15:47:37.068Z",
          "iopub.execute_input": "2020-11-25T15:47:37.074Z",
          "iopub.status.idle": "2020-11-25T15:47:37.085Z",
          "shell.execute_reply": "2020-11-25T15:47:37.095Z"
        }
      }
    },
    {
      "cell_type": "code",
      "source": [
        "class Raster:\n",
        "  \"\"\"Simple raster based on ESRI ASCII schema\"\"\"\n",
        "  \n",
        "  def __init__(self, bbox, cell_size, no_data=-9999):\n",
        "    self.ncols = int(bbox.width // cell_size + 1)\n",
        "    self.nrows = int(bbox.height // cell_size + 1)\n",
        "    self.xllcenter = bbox.minx\n",
        "    self.yllcenter = bbox.miny\n",
        "    self.cell_size = cell_size\n",
        "    self.no_data = no_data\n",
        "    \n",
        "    # initialize list of values with no_data\n",
        "    self.values = [self.no_data] * self.ncols * self.nrows\n",
        "  \n",
        "  @property\n",
        "  def coords(self):\n",
        "    \"\"\"Cell center coordinates\"\"\"\n",
        "    for i in range(self.ncols):\n",
        "      for j in range(self.nrows):\n",
        "        x = self.xllcenter + i * self.cell_size\n",
        "        y = self.yllcenter + j * self.cell_size\n",
        "        yield (x,y)\n",
        "    \n",
        "  def to_ascii(self):\n",
        "    rows = [\n",
        "      \"NCOLS %d\" % self.ncols,\n",
        "      \"NROWS %d\" % self.nrows,\n",
        "      \"XLLCENTER %s\" % self.xllcenter,\n",
        "      \"YLLCENTER %s\" % self.yllcenter,\n",
        "      \"CELLSIZE %s\" % self.cell_size,\n",
        "      \"NODATA_VALUE %s\" % self.no_data,\n",
        "      ' '.join( (str(x) for x in self.values) )\n",
        "    ]\n",
        "    return '\\n'.join(rows)"
      ],
      "outputs": [],
      "execution_count": 42,
      "metadata": {
        "collapsed": true,
        "jupyter": {
          "source_hidden": false,
          "outputs_hidden": false
        },
        "nteract": {
          "transient": {
            "deleting": false
          }
        },
        "execution": {
          "iopub.status.busy": "2020-11-25T16:20:45.808Z",
          "iopub.execute_input": "2020-11-25T16:20:45.813Z",
          "iopub.status.idle": "2020-11-25T16:20:45.823Z",
          "shell.execute_reply": "2020-11-25T16:20:45.832Z"
        }
      }
    },
    {
      "cell_type": "code",
      "source": [
        "bbox = BoundingBox(list_pts_3d)\n",
        "raster = Raster(bbox, 30)\n",
        "type(raster.to_ascii())"
      ],
      "outputs": [
        {
          "output_type": "execute_result",
          "execution_count": 17,
          "data": {
            "text/plain": "str"
          },
          "metadata": {}
        }
      ],
      "execution_count": 17,
      "metadata": {
        "collapsed": true,
        "jupyter": {
          "source_hidden": false,
          "outputs_hidden": false
        },
        "nteract": {
          "transient": {
            "deleting": false
          }
        },
        "execution": {
          "iopub.status.busy": "2020-11-25T16:00:49.418Z",
          "iopub.execute_input": "2020-11-25T16:00:49.424Z",
          "iopub.status.idle": "2020-11-25T16:00:49.435Z",
          "shell.execute_reply": "2020-11-25T16:00:49.445Z"
        }
      }
    },
    {
      "cell_type": "code",
      "source": [
        "list_points_2d = [(x,y) for x,y,z in list_pts_3d]\n",
        "list_points_z = [(z) for x,y,z in list_pts_3d]\n",
        "\n",
        "kdtree = scipy.spatial.KDTree(list_points_2d)\n",
        "\n",
        "for i, coord in enumerate(raster.coords):\n",
        "    dist, index = kdtree.query(coord)\n",
        "    raster.values[i] = list_points_z[index]\n"
      ],
      "outputs": [
        {
          "output_type": "stream",
          "name": "stdout",
          "text": [
            "[70.0, 70.305275, 84.47369, 101.77487, 111.0, 110.0, 101.35417, 86.04014, 72.97872, 70.0, 79.0, 90.38461, 108.81818, 116.50589, 116.0, 101.11111, 79.642395, 62.290043, 70.25, 92.71739, 107.87879, 121.3, 132.78226, 128.60825, 114.67391, 82.75862, 60.0, 84.324326, 107.88889, 126.63462, 136.07954, 145.9806, 138.61479, 123.02326, 105.2381, 76.92308, 87.65306, 109.54545, 131.66667, 148.43137, 147.07472, 115.92593, 113.05556, 105.56053, 91.8421, 97.3935, 116.33333, 139.7999, 136.72414, 123.5, 101.85185, 90.55556, 89.09091, 75.333336, 115.2881, 129.19017, 130.0, 112.14286, 103.75, 89.72222, 65.005684, 50.454544, 48.214287, 120.86963, 127.64343, 121.70886, 96.07143, 65.125, 65.90909, 62.350628, 45.87662, 37.227367, 110.75431, 107.25723, 107.16216, 78.888885, 52.820515, 44.14634, 43.82353, 41.69956, 33.60824]\n"
          ]
        }
      ],
      "execution_count": 29,
      "metadata": {
        "collapsed": true,
        "jupyter": {
          "source_hidden": false,
          "outputs_hidden": false
        },
        "nteract": {
          "transient": {
            "deleting": false
          }
        },
        "execution": {
          "iopub.status.busy": "2020-11-25T16:06:04.314Z",
          "iopub.execute_input": "2020-11-25T16:06:04.319Z",
          "shell.execute_reply": "2020-11-25T16:06:04.340Z",
          "iopub.status.idle": "2020-11-25T16:06:04.346Z"
        }
      }
    },
    {
      "cell_type": "code",
      "source": [],
      "outputs": [],
      "execution_count": null,
      "metadata": {
        "collapsed": true,
        "jupyter": {
          "source_hidden": false,
          "outputs_hidden": false
        },
        "nteract": {
          "transient": {
            "deleting": false
          }
        }
      }
    }
  ],
  "metadata": {
    "kernel_info": {
      "name": "node_nteract"
    },
    "language_info": {
      "name": "python",
      "version": "3.8.3",
      "mimetype": "text/x-python",
      "codemirror_mode": {
        "name": "ipython",
        "version": 3
      },
      "pygments_lexer": "ipython3",
      "nbconvert_exporter": "python",
      "file_extension": ".py"
    },
    "kernelspec": {
      "argv": [
        "C:\\Program Files\\nteract\\nteract.exe",
        "C:\\Program Files\\nteract\\resources\\app.asar\\node_modules\\ijavascript\\lib\\kernel.js",
        "{connection_file}",
        "--protocol=5.0",
        "--hide-undefined"
      ],
      "display_name": "Node.js (nteract)",
      "env": {
        "ELECTRON_RUN_AS_NODE": "1",
        "NODE_PATH": "C:\\Program Files\\nteract\\resources\\app.asar\\node_modules"
      },
      "language": "javascript",
      "name": "node_nteract"
    },
    "nteract": {
      "version": "0.26.0"
    }
  },
  "nbformat": 4,
  "nbformat_minor": 0
}