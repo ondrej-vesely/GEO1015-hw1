{
  "cells": [
    {
      "cell_type": "code",
      "source": [
        "import sys\n",
        "import math\n",
        "import csv\n",
        "import random\n",
        "import json \n",
        "import time\n",
        "\n",
        "try:\n",
        "    jparams = json.load(open('params.json'))\n",
        "except:\n",
        "    print(\"ERROR: something is wrong with the params.json file.\")\n",
        "    sys.exit()\n",
        "    \n",
        "#-- store the input 3D points in list\n",
        "list_pts_3d = []\n",
        "with open(jparams['input-file']) as csvfile:\n",
        "    r = csv.reader(csvfile, delimiter=' ')\n",
        "    header = next(r)\n",
        "    for line in r:\n",
        "        p = list(map(float, line)) #-- convert each str to a float\n",
        "        assert(len(p) == 3)\n",
        "        list_pts_3d.append(p)"
      ],
      "outputs": [],
      "execution_count": 2,
      "metadata": {
        "collapsed": true,
        "jupyter": {
          "source_hidden": false,
          "outputs_hidden": false
        },
        "nteract": {
          "transient": {
            "deleting": false
          }
        },
        "execution": {
          "shell.execute_reply": "2020-11-25T13:56:34.992Z",
          "iopub.status.busy": "2020-11-25T13:56:34.972Z",
          "iopub.execute_input": "2020-11-25T13:56:34.975Z",
          "iopub.status.idle": "2020-11-25T13:56:34.983Z"
        }
      }
    },
    {
      "cell_type": "code",
      "source": [
        "import math\n",
        "import numpy\n",
        "import scipy.spatial"
      ],
      "outputs": [],
      "execution_count": 4,
      "metadata": {
        "collapsed": true,
        "jupyter": {
          "source_hidden": false,
          "outputs_hidden": false
        },
        "nteract": {
          "transient": {
            "deleting": false
          }
        },
        "execution": {
          "iopub.status.busy": "2020-11-25T13:57:27.146Z",
          "iopub.execute_input": "2020-11-25T13:57:27.151Z",
          "shell.execute_reply": "2020-11-25T13:57:27.413Z",
          "iopub.status.idle": "2020-11-25T13:57:27.419Z"
        }
      }
    },
    {
      "cell_type": "code",
      "source": [
        "class BoundingBox:\n",
        "    \"\"\"A 2D bounding box\"\"\"\n",
        "    \n",
        "    def __init__(self, points):\n",
        "        if len(points) == 0:\n",
        "            raise ValueError(\"Can't compute bounding box of empty list\")\n",
        "        \n",
        "        self.minx, self.miny = float(\"inf\"), float(\"inf\")\n",
        "        self.maxx, self.maxy = float(\"-inf\"), float(\"-inf\")\n",
        "        for x, y, *_ in points:\n",
        "            # Set min coords\n",
        "            if x < self.minx:\n",
        "                self.minx = x\n",
        "            if y < self.miny:\n",
        "                self.miny = y\n",
        "            # Set max coords\n",
        "            if x > self.maxx:\n",
        "                self.maxx = x\n",
        "            elif y > self.maxy:\n",
        "                self.maxy = y\n",
        "                \n",
        "    @property\n",
        "    def width(self):\n",
        "        return self.maxx - self.minx\n",
        "    @property\n",
        "    def height(self):\n",
        "        return self.maxy - self.miny\n",
        "    def __repr__(self):\n",
        "        return \"BoundingBox(X: {} - {}, Y: {} - {})\".format(\n",
        "            self.minx, self.maxx, self.miny, self.maxy)\n",
        "      \n",
        "bbox = BoundingBox(list_pts_3d)\n",
        "bbox"
      ],
      "outputs": [
        {
          "output_type": "execute_result",
          "execution_count": 9,
          "data": {
            "text/plain": "BoundingBox(X: 2.0 - 252.0, Y: 3.0 - 253.0)"
          },
          "metadata": {}
        }
      ],
      "execution_count": 9,
      "metadata": {
        "collapsed": true,
        "jupyter": {
          "source_hidden": false,
          "outputs_hidden": false
        },
        "nteract": {
          "transient": {
            "deleting": false
          }
        },
        "execution": {
          "iopub.status.busy": "2020-11-25T14:26:58.647Z",
          "iopub.execute_input": "2020-11-25T14:26:58.651Z",
          "iopub.status.idle": "2020-11-25T14:26:58.733Z",
          "shell.execute_reply": "2020-11-25T14:26:58.745Z"
        }
      }
    },
    {
      "cell_type": "code",
      "source": [
        "class Raster:\n",
        "  \"\"\"Simple raster based on ESRI ASCII schema\"\"\"\n",
        "  \n",
        "  def __init__(self, bbox, cell_size, no_data=-9999):\n",
        "    self.ncols = bbox.width // cell_size + 1\n",
        "    self.nrows = bbox.height // cell_size + 1\n",
        "    self.xllcenter = bbox.minx\n",
        "    self.yllcenter = bbox.miny\n",
        "    self.cell_size = cell_size\n",
        "    self.no_data = no_data\n",
        "    \n",
        "    # initialize list of values with no_data\n",
        "    self.values = [self.no_data] * self.ncols * self.nrows\n",
        "    \n",
        "    # initialize list of pixel center coords\n",
        "    self.coords = []\n",
        "    for i in range(self.ncols):\n",
        "      for j in range(self.nrows):\n",
        "        x = self.xllcenter + i * self.cell_size\n",
        "        y = self.yllcenter + j * self.cell_size\n",
        "        self.coords.append([x,y])\n",
        "    \n",
        "  def to_ascii(self):\n",
        "    rows = [\n",
        "      \"NCOLS %d\" % self.ncols,\n",
        "      \"NROWS %d\" % self.nrows,\n",
        "      \"XLLCENTER %s\" % self.xllcenter,\n",
        "      \"YLLCENTER %s\" % self.yllcenter,\n",
        "      \"CELLSIZE %s\" % self.cell_size,\n",
        "      \"NODATA_VALUE %s\" % self.no_data,\n",
        "      ' '.join(self.values)\n",
        "    ]\n",
        "    return '\\n'.join(rows)"
      ],
      "outputs": [],
      "execution_count": 5,
      "metadata": {
        "collapsed": true,
        "jupyter": {
          "source_hidden": false,
          "outputs_hidden": false
        },
        "nteract": {
          "transient": {
            "deleting": false
          }
        },
        "execution": {
          "iopub.status.busy": "2020-11-25T14:22:32.948Z",
          "iopub.execute_input": "2020-11-25T14:22:32.954Z",
          "iopub.status.idle": "2020-11-25T14:22:32.960Z",
          "shell.execute_reply": "2020-11-25T14:22:32.968Z"
        }
      }
    },
    {
      "cell_type": "code",
      "source": [
        "[[-9999]*3]*3"
      ],
      "outputs": [
        {
          "output_type": "execute_result",
          "execution_count": 13,
          "data": {
            "text/plain": "[[-9999, -9999, -9999], [-9999, -9999, -9999], [-9999, -9999, -9999]]"
          },
          "metadata": {}
        }
      ],
      "execution_count": 13,
      "metadata": {
        "collapsed": true,
        "jupyter": {
          "source_hidden": false,
          "outputs_hidden": false
        },
        "nteract": {
          "transient": {
            "deleting": false
          }
        },
        "execution": {
          "iopub.status.busy": "2020-11-25T14:41:31.516Z",
          "iopub.execute_input": "2020-11-25T14:41:31.523Z",
          "iopub.status.idle": "2020-11-25T14:41:31.534Z",
          "shell.execute_reply": "2020-11-25T14:41:31.546Z"
        }
      }
    },
    {
      "cell_type": "code",
      "source": [],
      "outputs": [],
      "execution_count": null,
      "metadata": {
        "collapsed": true,
        "jupyter": {
          "source_hidden": false,
          "outputs_hidden": false
        },
        "nteract": {
          "transient": {
            "deleting": false
          }
        }
      }
    }
  ],
  "metadata": {
    "kernel_info": {
      "name": "node_nteract"
    },
    "language_info": {
      "name": "python",
      "version": "3.8.3",
      "mimetype": "text/x-python",
      "codemirror_mode": {
        "name": "ipython",
        "version": 3
      },
      "pygments_lexer": "ipython3",
      "nbconvert_exporter": "python",
      "file_extension": ".py"
    },
    "kernelspec": {
      "argv": [
        "C:\\Program Files\\nteract\\nteract.exe",
        "C:\\Program Files\\nteract\\resources\\app.asar\\node_modules\\ijavascript\\lib\\kernel.js",
        "{connection_file}",
        "--protocol=5.0",
        "--hide-undefined"
      ],
      "display_name": "Node.js (nteract)",
      "env": {
        "ELECTRON_RUN_AS_NODE": "1",
        "NODE_PATH": "C:\\Program Files\\nteract\\resources\\app.asar\\node_modules"
      },
      "language": "javascript",
      "name": "node_nteract"
    },
    "nteract": {
      "version": "0.26.0"
    }
  },
  "nbformat": 4,
  "nbformat_minor": 0
}