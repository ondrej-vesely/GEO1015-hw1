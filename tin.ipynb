{
  "cells": [
    {
      "cell_type": "code",
      "source": [
        "import sys\n",
        "import math\n",
        "import csv\n",
        "import random\n",
        "import json \n",
        "import time\n",
        "\n",
        "try:\n",
        "    jparams = json.load(open('params.json'))\n",
        "except:\n",
        "    print(\"ERROR: something is wrong with the params.json file.\")\n",
        "    sys.exit()\n",
        "    \n",
        "#-- store the input 3D points in list\n",
        "list_pts_3d = []\n",
        "with open(jparams['input-file']) as csvfile:\n",
        "    r = csv.reader(csvfile, delimiter=' ')\n",
        "    header = next(r)\n",
        "    for line in r:\n",
        "        p = list(map(float, line)) #-- convert each str to a float\n",
        "        assert(len(p) == 3)\n",
        "        list_pts_3d.append(p)"
      ],
      "outputs": [],
      "execution_count": 1,
      "metadata": {
        "collapsed": true,
        "jupyter": {
          "source_hidden": false,
          "outputs_hidden": false
        },
        "nteract": {
          "transient": {
            "deleting": false
          }
        },
        "execution": {
          "shell.execute_reply": "2020-11-26T16:22:30.964Z",
          "iopub.status.busy": "2020-11-26T16:22:31.040Z",
          "iopub.execute_input": "2020-11-26T16:22:31.050Z",
          "iopub.status.idle": "2020-11-26T16:22:31.059Z"
        }
      }
    },
    {
      "cell_type": "code",
      "source": [
        "import math\n",
        "import numpy\n",
        "import scipy.spatial\n",
        "import startin"
      ],
      "outputs": [],
      "execution_count": 2,
      "metadata": {
        "collapsed": true,
        "jupyter": {
          "source_hidden": false,
          "outputs_hidden": false
        },
        "nteract": {
          "transient": {
            "deleting": false
          }
        },
        "execution": {
          "iopub.status.busy": "2020-11-26T16:22:31.069Z",
          "iopub.execute_input": "2020-11-26T16:22:31.080Z",
          "shell.execute_reply": "2020-11-26T16:22:31.219Z",
          "iopub.status.idle": "2020-11-26T16:22:31.211Z"
        }
      }
    },
    {
      "cell_type": "code",
      "source": [
        "class BoundingBox:\n",
        "    \"\"\"A 2D bounding box\"\"\"\n",
        "    \n",
        "    def __init__(self, points):\n",
        "        if len(points) == 0:\n",
        "            raise ValueError(\"Can't compute bounding box of empty list\")\n",
        "        \n",
        "        self.minx, self.miny = float(\"inf\"), float(\"inf\")\n",
        "        self.maxx, self.maxy = float(\"-inf\"), float(\"-inf\")\n",
        "        for x, y, *_ in points:\n",
        "            # Set min coords\n",
        "            if x < self.minx:\n",
        "                self.minx = x\n",
        "            if y < self.miny:\n",
        "                self.miny = y\n",
        "            # Set max coords\n",
        "            if x > self.maxx:\n",
        "                self.maxx = x\n",
        "            elif y > self.maxy:\n",
        "                self.maxy = y\n",
        "                \n",
        "    @property\n",
        "    def width(self):\n",
        "        return self.maxx - self.minx\n",
        "    @property\n",
        "    def height(self):\n",
        "        return self.maxy - self.miny\n",
        "    def __repr__(self):\n",
        "        return \"BoundingBox(X: {} - {}, Y: {} - {})\".format(\n",
        "            self.minx, self.maxx, self.miny, self.maxy)\n",
        "      \n",
        "bbox = BoundingBox(list_pts_3d)\n",
        "bbox"
      ],
      "outputs": [
        {
          "output_type": "execute_result",
          "execution_count": 3,
          "data": {
            "text/plain": "BoundingBox(X: 2.0 - 252.0, Y: 3.0 - 253.0)"
          },
          "metadata": {}
        }
      ],
      "execution_count": 3,
      "metadata": {
        "collapsed": true,
        "jupyter": {
          "source_hidden": false,
          "outputs_hidden": false
        },
        "nteract": {
          "transient": {
            "deleting": false
          }
        },
        "execution": {
          "iopub.status.busy": "2020-11-26T16:22:31.237Z",
          "iopub.execute_input": "2020-11-26T16:22:31.245Z",
          "iopub.status.idle": "2020-11-26T16:22:31.264Z",
          "shell.execute_reply": "2020-11-26T16:22:31.331Z"
        }
      }
    },
    {
      "cell_type": "code",
      "source": [
        "class Raster:\n",
        "  \"\"\"Simple raster based on ESRI ASCII schema\"\"\"\n",
        "  \n",
        "  def __init__(self, bbox, cell_size, no_data=-9999):\n",
        "    self.ncols = math.ceil(bbox.width / cell_size)\n",
        "    self.nrows = math.ceil(bbox.height / cell_size)\n",
        "    self.xllcorner = bbox.minx\n",
        "    self.yllcorner = bbox.miny\n",
        "    self.cell_size = cell_size\n",
        "    self.no_data = no_data\n",
        "    \n",
        "    # initialize list of values with no_data\n",
        "    self.values = [self.no_data] * self.ncols * self.nrows\n",
        "    \n",
        "  @property\n",
        "  def centers(self):\n",
        "    \"\"\"Cell center coordinates\"\"\"\n",
        "    xulcenter = self.xllcorner + self.cell_size/2\n",
        "    yulcenter = self.yllcorner + self.cell_size/2 + self.cell_size*self.nrows\n",
        "    for i in range(self.ncols):\n",
        "      for j in range(self.nrows):\n",
        "        x = xulcenter + j * self.cell_size\n",
        "        y = yulcenter - i * self.cell_size\n",
        "        yield (x,y)\n",
        "    \n",
        "  def to_ascii(self):\n",
        "    rows = [\n",
        "      \"NCOLS %d\" % self.ncols,\n",
        "      \"NROWS %d\" % self.nrows,\n",
        "      \"XLLCORNER %s\" % self.xllcorner,\n",
        "      \"YLLCORNER %s\" % self.yllcorner,\n",
        "      \"CELLSIZE %s\" % self.cell_size,\n",
        "      \"NODATA_VALUE %s\" % self.no_data,\n",
        "      ' '.join( (str(x) for x in self.values) )\n",
        "    ]\n",
        "    return '\\n'.join(rows)"
      ],
      "outputs": [],
      "execution_count": 4,
      "metadata": {
        "collapsed": true,
        "jupyter": {
          "source_hidden": false,
          "outputs_hidden": false
        },
        "nteract": {
          "transient": {
            "deleting": false
          }
        },
        "execution": {
          "iopub.status.busy": "2020-11-26T16:22:31.275Z",
          "iopub.execute_input": "2020-11-26T16:22:31.281Z",
          "iopub.status.idle": "2020-11-26T16:22:31.290Z",
          "shell.execute_reply": "2020-11-26T16:22:31.334Z"
        }
      }
    },
    {
      "cell_type": "code",
      "source": [
        "bbox = BoundingBox(list_pts_3d)\n",
        "raster = Raster(bbox, 30)\n",
        "type(raster.to_ascii())"
      ],
      "outputs": [
        {
          "output_type": "execute_result",
          "execution_count": 5,
          "data": {
            "text/plain": "str"
          },
          "metadata": {}
        }
      ],
      "execution_count": 5,
      "metadata": {
        "collapsed": true,
        "jupyter": {
          "source_hidden": false,
          "outputs_hidden": false
        },
        "nteract": {
          "transient": {
            "deleting": false
          }
        },
        "execution": {
          "iopub.status.busy": "2020-11-26T16:22:31.298Z",
          "iopub.execute_input": "2020-11-26T16:22:31.303Z",
          "iopub.status.idle": "2020-11-26T16:22:31.315Z",
          "shell.execute_reply": "2020-11-26T16:22:31.338Z"
        }
      }
    },
    {
      "cell_type": "code",
      "source": [
        "  "
      ],
      "outputs": [],
      "execution_count": 25,
      "metadata": {
        "collapsed": true,
        "jupyter": {
          "source_hidden": false,
          "outputs_hidden": false
        },
        "nteract": {
          "transient": {
            "deleting": false
          }
        },
        "execution": {
          "iopub.status.busy": "2020-11-26T16:40:30.434Z",
          "iopub.execute_input": "2020-11-26T16:40:30.440Z",
          "shell.execute_reply": "2020-11-26T16:40:30.462Z",
          "iopub.status.idle": "2020-11-26T16:40:30.451Z"
        }
      }
    },
    {
      "cell_type": "code",
      "source": [
        "test\n",
        "dt.get_point(test[0])"
      ],
      "outputs": [
        {
          "output_type": "execute_result",
          "execution_count": 24,
          "data": {
            "text/plain": "[224.0, 49.0, 120.93194]"
          },
          "metadata": {}
        }
      ],
      "execution_count": 24,
      "metadata": {
        "collapsed": true,
        "jupyter": {
          "source_hidden": false,
          "outputs_hidden": false
        },
        "nteract": {
          "transient": {
            "deleting": false
          }
        },
        "execution": {
          "iopub.status.busy": "2020-11-26T16:39:58.574Z",
          "iopub.execute_input": "2020-11-26T16:39:58.583Z",
          "iopub.status.idle": "2020-11-26T16:39:58.597Z",
          "shell.execute_reply": "2020-11-26T16:39:58.602Z"
        }
      }
    },
    {
      "cell_type": "code",
      "source": [
        "dt = startin.DT()\n",
        "dt.insert(list_pts_3d)\n",
        "\n",
        "raster.values = []\n",
        "for center in raster.centers:\n",
        "    triangle = dt.locate(*center)\n",
        "    # catch outside on convex hull case\n",
        "    if not triangle:\n",
        "        raster.values.append(raster.no_data)\n",
        "        continue\n",
        "    # interpolate the triangle verts\n",
        "    v1, v2, v3 = [dt.get_point(i) for i in triangle]\n",
        "    # using barycentric coordinate weights \n",
        "    # https://codeplea.com/triangular-interpolation\n",
        "    w1top = (v2[1]-v3[1])*(center[0]-v3[0]) + (v3[0]-v2[0])*(center[1]-v3[1])\n",
        "    w2top = (v3[1]-v1[1])*(center[0]-v3[0]) + (v1[0]-v3[0])*(center[1]-v3[1])\n",
        "    bot = (v2[1]-v3[1])*(v1[0]-v3[0]) + (v3[0]-v2[0])*(v1[1]-v3[1])\n",
        "    w1 = w1top / bot\n",
        "    w2 = w2top / bot\n",
        "    w3 = 1 - w1 - w2\n",
        "    result = v1[2]*w1 + v2[2]*w2 + v3[2]*w3\n",
        "    raster.values.append(result)"
      ],
      "outputs": [],
      "execution_count": 35,
      "metadata": {
        "collapsed": true,
        "jupyter": {
          "source_hidden": false,
          "outputs_hidden": false
        },
        "nteract": {
          "transient": {
            "deleting": false
          }
        },
        "execution": {
          "iopub.status.busy": "2020-11-26T17:26:38.384Z",
          "iopub.execute_input": "2020-11-26T17:26:38.392Z",
          "iopub.status.idle": "2020-11-26T17:26:38.407Z",
          "shell.execute_reply": "2020-11-26T17:26:38.424Z"
        }
      }
    },
    {
      "cell_type": "code",
      "source": [
        "raster.values"
      ],
      "outputs": [
        {
          "output_type": "execute_result",
          "execution_count": 36,
          "data": {
            "text/plain": "[-9999,\n -9999,\n -9999,\n -9999,\n -9999,\n -9999,\n -9999,\n -9999,\n -9999,\n -9999,\n -9999,\n -9999,\n -9999,\n -9999,\n -9999,\n -9999,\n -9999,\n -9999,\n 234.05051333333358,\n 108.81303644736863,\n -67.61365742857106,\n 53.98028090909099,\n 256.1984091304346,\n 123.35373218269228,\n 51.402738306878305,\n 38.5051336637931,\n -9999,\n 140.95636419354855,\n 64.48927324137935,\n 56.82500750000008,\n 101.88978857142854,\n 158.47013072727265,\n 68.59994879545455,\n 49.69705578111588,\n 49.44648775206612,\n -9999,\n 100.47741726495724,\n 76.51963060109279,\n 129.00878749999998,\n 148.13937060869563,\n 99.82268291666665,\n 87.11758784090908,\n 75.42697868131869,\n 8.19886515121948,\n -9999,\n 73.95510714285683,\n 122.9659205333333,\n 137.72554583333334,\n 161.6146107692307,\n 126.41356882352942,\n 92.52137057142855,\n 49.54109677142844,\n 2.2506266249999953,\n -9999,\n 100.9807160625,\n 71.9260769354837,\n 109.25139025423721,\n 149.99685264705886,\n 128.86432455357146,\n 117.8197317037037,\n 62.70931349999978,\n 14.164563167155421,\n -9999,\n 94.25140034285714,\n 103.942366875,\n 128.30929615384616,\n 139.03381252100843,\n 160.6705619607843,\n 90.35535627906972,\n 70.42201550000004,\n 104.36922105263159,\n -9999,\n 72.6327839189189,\n 87.7769875,\n 124.3670353333334,\n 128.76229545454532,\n 143.4943455,\n 130.0,\n 130.0,\n 40.235444000000825,\n -9999]"
          },
          "metadata": {}
        }
      ],
      "execution_count": 36,
      "metadata": {
        "collapsed": true,
        "jupyter": {
          "source_hidden": false,
          "outputs_hidden": false
        },
        "nteract": {
          "transient": {
            "deleting": false
          }
        },
        "execution": {
          "iopub.status.busy": "2020-11-26T17:29:20.487Z",
          "iopub.execute_input": "2020-11-26T17:29:20.493Z",
          "iopub.status.idle": "2020-11-26T17:29:20.506Z",
          "shell.execute_reply": "2020-11-26T17:29:20.521Z"
        }
      }
    },
    {
      "cell_type": "code",
      "source": [],
      "outputs": [],
      "execution_count": null,
      "metadata": {
        "collapsed": true,
        "jupyter": {
          "source_hidden": false,
          "outputs_hidden": false
        },
        "nteract": {
          "transient": {
            "deleting": false
          }
        }
      }
    }
  ],
  "metadata": {
    "kernel_info": {
      "name": "node_nteract"
    },
    "language_info": {
      "name": "python",
      "version": "3.8.3",
      "mimetype": "text/x-python",
      "codemirror_mode": {
        "name": "ipython",
        "version": 3
      },
      "pygments_lexer": "ipython3",
      "nbconvert_exporter": "python",
      "file_extension": ".py"
    },
    "kernelspec": {
      "argv": [
        "C:\\Program Files\\nteract\\nteract.exe",
        "C:\\Program Files\\nteract\\resources\\app.asar\\node_modules\\ijavascript\\lib\\kernel.js",
        "{connection_file}",
        "--protocol=5.0",
        "--hide-undefined"
      ],
      "display_name": "Node.js (nteract)",
      "env": {
        "ELECTRON_RUN_AS_NODE": "1",
        "NODE_PATH": "C:\\Program Files\\nteract\\resources\\app.asar\\node_modules"
      },
      "language": "javascript",
      "name": "node_nteract"
    },
    "nteract": {
      "version": "0.26.0"
    }
  },
  "nbformat": 4,
  "nbformat_minor": 0
}